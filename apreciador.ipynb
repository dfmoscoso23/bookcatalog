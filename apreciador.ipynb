{
 "cells": [
  {
   "cell_type": "code",
   "execution_count": 43,
   "id": "80020d9f-6280-44f8-8e2d-a0c6bf305da4",
   "metadata": {},
   "outputs": [],
   "source": [
    "import pandas as pd\n",
    "import re"
   ]
  },
  {
   "cell_type": "code",
   "execution_count": 3,
   "id": "a7c2606b-3463-430a-9f2f-3dbdc6ee6a66",
   "metadata": {},
   "outputs": [],
   "source": [
    "tw=pd.read_excel('metadatos_losada_img.xlsx')"
   ]
  },
  {
   "cell_type": "code",
   "execution_count": 83,
   "id": "b9ef3587-5a64-4d0c-82be-e95ea0ef9c34",
   "metadata": {},
   "outputs": [],
   "source": [
    "precios=pd.read_excel('losada_pvp.xlsx')"
   ]
  },
  {
   "cell_type": "code",
   "execution_count": 84,
   "id": "d40a3060-e0c1-48bf-a9ac-affb190a2c5c",
   "metadata": {},
   "outputs": [],
   "source": [
    "precios.drop(0,inplace=True)"
   ]
  },
  {
   "cell_type": "code",
   "execution_count": 85,
   "id": "87bd6148-795c-4cfa-9b61-31c35b9ff4d8",
   "metadata": {},
   "outputs": [],
   "source": [
    "precios.replace(r',','.',regex=True,inplace=True)"
   ]
  },
  {
   "cell_type": "code",
   "execution_count": 86,
   "id": "03804b3b-8218-4668-aceb-9843b0e89161",
   "metadata": {},
   "outputs": [],
   "source": [
    "tw['precio']=1.4\n",
    "tw['precio_siniva']=0.3\n",
    "for i in range(len(precios)):\n",
    "    isbn=str(precios['EAN'].iloc[i])[:-3]\n",
    "    precio=float(precios['PVP'].iloc[i])\n",
    "    sin_iva=float(precio)*0.96\n",
    "    try:\n",
    "        indice=tw[tw['EAN']==int(isbn)].index[0]\n",
    "        tw['precio'].iat[indice]=precio\n",
    "        tw['precio_siniva'].iat[indice]=sin_iva\n",
    "    except:\n",
    "        pass"
   ]
  },
  {
   "cell_type": "code",
   "execution_count": null,
   "id": "7790c420-17f9-4421-90ed-fad9ff85bc76",
   "metadata": {},
   "outputs": [],
   "source": [
    "eanCheck(raw_isbn)"
   ]
  },
  {
   "cell_type": "code",
   "execution_count": 87,
   "id": "fbb0cfdb-4894-4410-ab15-bff84ebf195f",
   "metadata": {},
   "outputs": [],
   "source": [
    "def eanCheck(ean):\n",
    "    checksum = 0\n",
    "    for i, digit in enumerate(reversed(str(ean))):\n",
    "        checksum += int(digit) * 3 if (i % 2 == 0) else int(digit)\n",
    "    return (10 - (checksum % 10)) % 10"
   ]
  },
  {
   "cell_type": "code",
   "execution_count": 88,
   "id": "005ef1a6-72a3-4a68-a221-e3fcc8f36e03",
   "metadata": {},
   "outputs": [],
   "source": [
    "sin_precio=tw[tw['precio']==1.4].copy()"
   ]
  },
  {
   "cell_type": "code",
   "execution_count": 89,
   "id": "6b2d08fa-d414-42a8-8258-7d0f5cb4b552",
   "metadata": {},
   "outputs": [
    {
     "data": {
      "text/html": [
       "<div>\n",
       "<style scoped>\n",
       "    .dataframe tbody tr th:only-of-type {\n",
       "        vertical-align: middle;\n",
       "    }\n",
       "\n",
       "    .dataframe tbody tr th {\n",
       "        vertical-align: top;\n",
       "    }\n",
       "\n",
       "    .dataframe thead th {\n",
       "        text-align: right;\n",
       "    }\n",
       "</style>\n",
       "<table border=\"1\" class=\"dataframe\">\n",
       "  <thead>\n",
       "    <tr style=\"text-align: right;\">\n",
       "      <th></th>\n",
       "      <th>EAN</th>\n",
       "      <th>titulo</th>\n",
       "      <th>editorial</th>\n",
       "      <th>titulo_descripcion</th>\n",
       "      <th>sinopsis</th>\n",
       "      <th>alto</th>\n",
       "      <th>ancho</th>\n",
       "      <th>dimension</th>\n",
       "      <th>coleccion</th>\n",
       "      <th>Número_de_colección</th>\n",
       "      <th>...</th>\n",
       "      <th>traductor</th>\n",
       "      <th>ilustrador</th>\n",
       "      <th>paginas</th>\n",
       "      <th>extranjero</th>\n",
       "      <th>bolsillo</th>\n",
       "      <th>edad</th>\n",
       "      <th>ibic</th>\n",
       "      <th>url_imagen</th>\n",
       "      <th>precio</th>\n",
       "      <th>precio_siniva</th>\n",
       "    </tr>\n",
       "  </thead>\n",
       "  <tbody>\n",
       "    <tr>\n",
       "      <th>799</th>\n",
       "      <td>978950039613</td>\n",
       "      <td>Rinoceronte</td>\n",
       "      <td>Losada</td>\n",
       "      <td>sinopsis</td>\n",
       "      <td>Rinoceronte (1959) es la pieza más rica y dens...</td>\n",
       "      <td>19.0</td>\n",
       "      <td>12.0</td>\n",
       "      <td>cm</td>\n",
       "      <td>Colección Aniversario</td>\n",
       "      <td>NaN</td>\n",
       "      <td>...</td>\n",
       "      <td>Cristina Piña</td>\n",
       "      <td>NaN</td>\n",
       "      <td>219</td>\n",
       "      <td>EXTRANJERO</td>\n",
       "      <td>Bolsillo</td>\n",
       "      <td>NaN</td>\n",
       "      <td>FA</td>\n",
       "      <td>http://www.editoriallosada.com/sites/default/f...</td>\n",
       "      <td>1.4</td>\n",
       "      <td>0.3</td>\n",
       "    </tr>\n",
       "  </tbody>\n",
       "</table>\n",
       "<p>1 rows × 26 columns</p>\n",
       "</div>"
      ],
      "text/plain": [
       "              EAN       titulo editorial titulo_descripcion  \\\n",
       "799  978950039613  Rinoceronte    Losada           sinopsis   \n",
       "\n",
       "                                              sinopsis  alto  ancho dimension  \\\n",
       "799  Rinoceronte (1959) es la pieza más rica y dens...  19.0   12.0        cm   \n",
       "\n",
       "                 coleccion  Número_de_colección  ...      traductor  \\\n",
       "799  Colección Aniversario                  NaN  ...  Cristina Piña   \n",
       "\n",
       "    ilustrador  paginas  extranjero  bolsillo edad ibic  \\\n",
       "799        NaN      219  EXTRANJERO  Bolsillo  NaN   FA   \n",
       "\n",
       "                                            url_imagen  precio precio_siniva  \n",
       "799  http://www.editoriallosada.com/sites/default/f...     1.4           0.3  \n",
       "\n",
       "[1 rows x 26 columns]"
      ]
     },
     "execution_count": 89,
     "metadata": {},
     "output_type": "execute_result"
    }
   ],
   "source": [
    "sin_precio"
   ]
  },
  {
   "cell_type": "code",
   "execution_count": 71,
   "id": "f5133dff-fa6b-4bd1-81d5-8e441e95e68a",
   "metadata": {},
   "outputs": [],
   "source": [
    "sin_precio['EAN']=sin_precio['EAN'].apply(lambda x: str(x)+str(eanCheck(x)))"
   ]
  },
  {
   "cell_type": "code",
   "execution_count": 75,
   "id": "08e4616d-1732-4293-a60a-42a60ab7bde7",
   "metadata": {},
   "outputs": [],
   "source": [
    "sin_precio['ISBN_guinado']=sin_precio['EAN'].apply(lambda x: str(x)[0:3]+\"-\"+str(x)[3:6]+\"-\"+str(x)[6:8]+\"-\"+str(x)[8:12]+\"-\"+str(x)[-1])"
   ]
  },
  {
   "cell_type": "code",
   "execution_count": 80,
   "id": "c903e83d-642f-484d-ae57-e45da887b51e",
   "metadata": {},
   "outputs": [],
   "source": [
    "sin_precio_clean=sin_precio[['ISBN_guinado','EAN','titulo','precio']]"
   ]
  },
  {
   "cell_type": "code",
   "execution_count": 82,
   "id": "6541b8f6-b596-4752-9294-29ca205d7869",
   "metadata": {},
   "outputs": [],
   "source": [
    "sin_precio_clean.to_excel('sin_precio.xlsx')"
   ]
  },
  {
   "cell_type": "code",
   "execution_count": 90,
   "id": "782886fb-fe90-47ba-b465-1bfeb3400074",
   "metadata": {},
   "outputs": [],
   "source": [
    "tw.to_excel('metadatos_losada_precio.xlsx',index=False)"
   ]
  },
  {
   "cell_type": "code",
   "execution_count": null,
   "id": "5fb6762e-1030-49a2-b887-ade9e2b8737d",
   "metadata": {},
   "outputs": [],
   "source": []
  }
 ],
 "metadata": {
  "kernelspec": {
   "display_name": "Python 3 (ipykernel)",
   "language": "python",
   "name": "python3"
  },
  "language_info": {
   "codemirror_mode": {
    "name": "ipython",
    "version": 3
   },
   "file_extension": ".py",
   "mimetype": "text/x-python",
   "name": "python",
   "nbconvert_exporter": "python",
   "pygments_lexer": "ipython3",
   "version": "3.9.0"
  }
 },
 "nbformat": 4,
 "nbformat_minor": 5
}
