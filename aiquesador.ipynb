{
 "cells": [
  {
   "cell_type": "code",
   "execution_count": 3,
   "id": "cea4ebd9-9287-445c-a9d9-0f0c57ce141a",
   "metadata": {},
   "outputs": [],
   "source": [
    "import pandas as pd\n",
    "import re\n",
    "from extractor_aique import libro"
   ]
  },
  {
   "cell_type": "code",
   "execution_count": 2,
   "id": "88707b9b-e447-4720-8534-fd7f02b5cbe9",
   "metadata": {},
   "outputs": [],
   "source": [
    "aiq = pd.read_csv('aiques.txt')# header=None,names=['Perdidos']"
   ]
  },
  {
   "cell_type": "code",
   "execution_count": 3,
   "id": "9392f922-9e4e-4586-87c5-619c4588e78e",
   "metadata": {},
   "outputs": [],
   "source": [
    "precios=pd.read_excel('losada_pvp.xlsx')\n",
    "precios.drop(0,inplace=True)\n",
    "precios.replace(r',','.',regex=True,inplace=True)"
   ]
  },
  {
   "cell_type": "code",
   "execution_count": 4,
   "id": "0a9263c1-66b5-43e2-84c4-cac5ecb42382",
   "metadata": {},
   "outputs": [],
   "source": [
    "def eanCheck(ean):\n",
    "    checksum = 0\n",
    "    for i, digit in enumerate(reversed(str(ean))):\n",
    "        checksum += int(digit) * 3 if (i % 2 == 0) else int(digit)\n",
    "    return (10 - (checksum % 10)) % 10"
   ]
  },
  {
   "cell_type": "code",
   "execution_count": 5,
   "id": "4686a864-68df-4125-8be3-1a2a66f6e58d",
   "metadata": {},
   "outputs": [],
   "source": [
    "aiq['Perdidos']=aiq['Perdidos'].apply(lambda x: str(x)+str(eanCheck(x)))"
   ]
  },
  {
   "cell_type": "code",
   "execution_count": null,
   "id": "73c4e495-4762-4047-be6e-7f6ee7bb2aae",
   "metadata": {},
   "outputs": [
    {
     "name": "stdout",
     "output_type": "stream",
     "text": [
      "9789507016271\n",
      "INFANCIA Y PODER\n",
      "INFANCIA Y PODER\n",
      "http://www.aique.com.ar/libro/infancia-y-poder\n",
      "9789870600954\n",
      "DESAFIO DE APRENDER A LEER PRERREQUESITOS ACCESO LECTOESCRI\n",
      "DESAFIO DE APRENDER A LEER PRERREQUESITOS ACCESO LECTOESCRI\n",
      "['DESAFIO', 'DE', 'APRENDER', 'A', 'LEER', 'PRERREQUESITOS', 'ACCESO', 'LECTOESCRI']\n",
      "DESAFIO DE APRENDER\n",
      "http://www.aique.com.ar/libro/el-desafio-de-aprender-a-leer\n",
      "9789870600947\n",
      "SUBIDOS DE TONO\n",
      "SUBIDOS DE TONO\n",
      "http://www.aique.com.ar/libro/subidos-de-tono\n",
      "9788496375369\n",
      "ABANICO DE LADY WINDERMERE\n",
      "ABANICO DE LADY WINDERMERE\n",
      "['ABANICO', 'DE', 'LADY', 'WINDERMERE']\n",
      "ABANICO DE LADY\n",
      "9789870606567\n",
      "CIENCIA CON CREATIVIDAD\n",
      "CIENCIA CON CREATIVIDAD\n",
      "http://www.aique.com.ar/libro/ciencia-con-creatividad\n",
      "9788496375338\n",
      "DIAS DE INFANCIA\n",
      "DIAS DE INFANCIA\n",
      "['DIAS', 'DE', 'INFANCIA']\n",
      "DIAS DE INFANCIA\n",
      "9788496375161\n",
      "POESIA COMPLETA\n",
      "POESIA COMPLETA\n",
      "['POESIA', 'COMPLETA']\n",
      "POESIA COMPLETA\n",
      "2000124769348\n",
      "FLORES DEL MAL\n",
      "FLORES DEL MAL\n",
      "['FLORES', 'DEL', 'MAL']\n",
      "FLORES DEL MAL\n",
      "9788493271275\n",
      "A LOS TRES AÑOS SE INVESTIGA FRANCESCO TONUCCI\n",
      "A LOS TRES AÑOS SE INVESTIGA FRANCESCO TONUCCI\n",
      "['A', 'LOS', 'TRES', 'AÑOS', 'SE', 'INVESTIGA', 'FRANCESCO', 'TONUCCI']\n",
      "A LOS TRES\n",
      "9788475057835\n",
      "UNA TEMPORADA EN EL INFIERNO\n",
      "UNA TEMPORADA EN EL INFIERNO\n",
      "['UNA', 'TEMPORADA', 'EN', 'EL', 'INFIERNO']\n",
      "UNA TEMPORADA EN\n",
      "9788496375390\n",
      "VEROCHKA Y OTROS CUENTOS\n",
      "VEROCHKA Y OTROS CUENTOS\n",
      "['VEROCHKA', 'Y', 'OTROS', 'CUENTOS']\n",
      "VEROCHKA Y OTROS\n",
      "9789870608998\n",
      "HERRAMIENTAS PARA ENSEÑAR HISTORIA RECIENTE\n",
      "HERRAMIENTAS PARA ENSEÑAR HISTORIA RECIENTE\n",
      "http://www.aique.com.ar/libro/herramientas-para-ensenar-historia-reciente\n",
      "9789870605393\n",
      "VERSOS PARA NIÑOS Y NO TANTO\n",
      "VERSOS PARA NIÑOS Y NO TANTO\n",
      "['VERSOS', 'PARA', 'NIÑOS', 'Y', 'NO', 'TANTO']\n",
      "VERSOS PARA NIÑOS\n",
      "http://www.aique.com.ar/libro/versos-para-ninos-y-no-tanto\n",
      "9788495855893\n",
      "JUAN SOLDADO\n",
      "JUAN SOLDADO\n",
      "['JUAN', 'SOLDADO']\n",
      "JUAN SOLDADO\n",
      "9788493291655\n",
      "CUADERNOS DE MALTE LAURIDS BRIGGE\n",
      "CUADERNOS DE MALTE LAURIDS BRIGGE\n",
      "['CUADERNOS', 'DE', 'MALTE', 'LAURIDS', 'BRIGGE']\n",
      "CUADERNOS DE MALTE\n",
      "9789870601845\n",
      "APRENDER CIENCIAS EN EL JARDIN DE INFANTES\n",
      "APRENDER CIENCIAS EN EL JARDIN DE INFANTES\n",
      "['APRENDER', 'CIENCIAS', 'EN', 'EL', 'JARDIN', 'DE', 'INFANTES']\n",
      "APRENDER CIENCIAS EN\n",
      "9788496375277\n",
      "ABC DE TSALKA.EL\n",
      "ABC DE TSALKA.EL\n",
      "['ABC', 'DE', 'TSALKA.EL']\n",
      "ABC DE TSALKA.EL\n",
      "9788421757413\n",
      "LA EDUCACION SENTIMENTAL\n",
      "LA EDUCACION SENTIMENTAL\n",
      "['LA', 'EDUCACION', 'SENTIMENTAL']\n",
      "LA EDUCACION SENTIMENTAL\n",
      "9789870600367\n",
      "MENTE EN ACCION.LA\n",
      "MENTE EN ACCION.LA\n",
      "['MENTE', 'EN', 'ACCION.LA']\n",
      "MENTE EN ACCION.LA\n",
      "9789870606499\n",
      "CON TON Y CON SON\n",
      "CON TON Y CON SON\n",
      "http://www.aique.com.ar/libro/con-ton-y-con-son-edicion-actualizada\n",
      "9789870605461\n",
      "MIRADA MENTAL.LA\n",
      "MIRADA MENTAL.LA\n",
      "['MIRADA', 'MENTAL.LA']\n",
      "MIRADA MENTAL.LA\n",
      "9788493271282\n",
      "DIFUNTO MATIAS PASCAL.EL\n",
      "DIFUNTO MATIAS PASCAL.EL\n",
      "['DIFUNTO', 'MATIAS', 'PASCAL.EL']\n",
      "DIFUNTO MATIAS PASCAL.EL\n",
      "9789870600817\n",
      "DEL CURRICULUM PRESCRIPTO AL CURRICULUM ENSEÑADO\n",
      "DEL CURRICULUM PRESCRIPTO AL CURRICULUM ENSEÑADO\n",
      "http://www.aique.com.ar/libro/del-curriculum-prescripto-al-curriculum-ensenado\n",
      "9788493329624\n",
      "SHALACOS\n",
      "SHALACOS\n",
      "['SHALACOS']\n",
      "SHALACOS\n",
      "9789507010316\n",
      "LORIS MALAGUZZI 100 MUNDOS POSIBLES\n",
      "LORIS MALAGUZZI 100 MUNDOS POSIBLES\n",
      "['LORIS', 'MALAGUZZI', '100', 'MUNDOS', 'POSIBLES']\n",
      "LORIS MALAGUZZI 100\n",
      "9789870601043\n",
      "ENCUENTROS CERCANOS CON LA MATEMATICA\n",
      "ENCUENTROS CERCANOS CON LA MATEMATICA\n"
     ]
    }
   ],
   "source": [
    "for i in aiq['Perdidos']:\n",
    "    try:\n",
    "        indice=precios[precios['EAN']==int(i)].index[0]\n",
    "        print(i)\n",
    "        print(precios['Titulo'].iloc[indice])\n",
    "        extractor_aique.libro.buscador(precios['Titulo'].iloc[indice])\n",
    "    except:\n",
    "        pass"
   ]
  },
  {
   "cell_type": "code",
   "execution_count": 4,
   "id": "30bc5112-c75a-4a96-b629-bd225a6f22a1",
   "metadata": {},
   "outputs": [],
   "source": [
    "lib=libro(9789507016271)\n"
   ]
  },
  {
   "cell_type": "code",
   "execution_count": 5,
   "id": "e2cfdf39-238e-434e-ba10-0a32d5e76c68",
   "metadata": {},
   "outputs": [
    {
     "name": "stdout",
     "output_type": "stream",
     "text": [
      "Retablillo de los bichos\n",
      "http://www.aique.com.ar/libro/retablillo-de-los-bichos\n"
     ]
    }
   ],
   "source": [
    "soupo=lib.buscador(\"Retablillo de los bichos\")"
   ]
  },
  {
   "cell_type": "code",
   "execution_count": 12,
   "id": "fb927735-4250-49b9-801a-b767ef74b0f6",
   "metadata": {},
   "outputs": [],
   "source": [
    "lib.extraccion_datos()"
   ]
  },
  {
   "cell_type": "code",
   "execution_count": 13,
   "id": "7fa6e7dc-06c3-4cea-a821-0ad3a6d5adb2",
   "metadata": {},
   "outputs": [
    {
     "data": {
      "text/plain": [
       "'\\nInfancia y poder\\n'"
      ]
     },
     "execution_count": 13,
     "metadata": {},
     "output_type": "execute_result"
    }
   ],
   "source": [
    "lib.titulo\n"
   ]
  },
  {
   "cell_type": "code",
   "execution_count": 23,
   "id": "29c9f2d1-a446-4cb9-be0f-a2fea784b3c0",
   "metadata": {},
   "outputs": [],
   "source": [
    "evens=soupo.find_all('div', class_=\"field-item even\")"
   ]
  },
  {
   "cell_type": "code",
   "execution_count": 28,
   "id": "4e42105b-d46d-4a72-a7fa-334f2e39b863",
   "metadata": {},
   "outputs": [
    {
     "data": {
      "text/plain": [
       "<div class=\"field-item even\"><p><strong>Autor:</strong> <a class=\"glossify-link\" href=\"http://www.aique.com.ar/autores/patricia-suarez\">Patricia Suárez</a><br/><strong>Ilustración:</strong> <a class=\"glossify-link\" href=\"http://www.aique.com.ar/autores/carlos-pinto\">Carlos Pinto</a></p>\n",
       "</div>"
      ]
     },
     "execution_count": 28,
     "metadata": {},
     "output_type": "execute_result"
    }
   ],
   "source": [
    "evens[2]"
   ]
  },
  {
   "cell_type": "code",
   "execution_count": 40,
   "id": "5bbfd51a-ba8c-4ef9-8b3d-8eaea70710a3",
   "metadata": {},
   "outputs": [
    {
     "ename": "AttributeError",
     "evalue": "'NoneType' object has no attribute 'text'",
     "output_type": "error",
     "traceback": [
      "\u001b[1;31m---------------------------------------------------------------------------\u001b[0m",
      "\u001b[1;31mAttributeError\u001b[0m                            Traceback (most recent call last)",
      "Input \u001b[1;32mIn [40]\u001b[0m, in \u001b[0;36m<module>\u001b[1;34m\u001b[0m\n\u001b[0;32m      4\u001b[0m paginas\u001b[38;5;241m=\u001b[39mevens[\u001b[38;5;241m5\u001b[39m]\u001b[38;5;241m.\u001b[39mtext\n\u001b[0;32m      5\u001b[0m formato\u001b[38;5;241m=\u001b[39mevens[\u001b[38;5;241m6\u001b[39m]\u001b[38;5;241m.\u001b[39mtext\n\u001b[1;32m----> 6\u001b[0m sinopsis\u001b[38;5;241m=\u001b[39m\u001b[43mevens\u001b[49m\u001b[43m[\u001b[49m\u001b[38;5;241;43m12\u001b[39;49m\u001b[43m]\u001b[49m\u001b[38;5;241;43m.\u001b[39;49m\u001b[43mp\u001b[49m\u001b[38;5;241;43m.\u001b[39;49m\u001b[43mtext\u001b[49m\n",
      "\u001b[1;31mAttributeError\u001b[0m: 'NoneType' object has no attribute 'text'"
     ]
    }
   ],
   "source": [
    "evens=soupo.find_all('div', class_=\"field-item even\")\n",
    "autor=soup.find('a',class_=\"glossify-link\")\n",
    "url_imagen=evens[1].a['href']\n",
    "paginas=evens[5].text\n",
    "formato=evens[6].text\n",
    "sinopsis=evens[12].p.text"
   ]
  },
  {
   "cell_type": "code",
   "execution_count": 44,
   "id": "1633a198-e2a1-4ced-95ce-b48de3720360",
   "metadata": {},
   "outputs": [],
   "source": [
    "autor=soupo.find('a',class_=\"glossify-link\").text\n",
    "paginas=soupo.find('div',class_=\"field field-name-field-paginas field-type-text field-label-inline clearfix\").find('div', class_=\"field-item even\").text\n",
    "formato=soupo.find('div',class_=\"field field-name-field-formato field-type-text field-label-inline clearfix\").find('div', class_=\"field-item even\").text\n",
    "sinopsis=soupo.find('div',class_=\"group-footer\").p.text"
   ]
  },
  {
   "cell_type": "code",
   "execution_count": 13,
   "id": "3b9a0ed5-6cf9-43dd-974a-f7d543182cd2",
   "metadata": {},
   "outputs": [],
   "source": [
    "sinopsis=soupo.find('div',class_=\"group-footer\").p.text"
   ]
  },
  {
   "cell_type": "code",
   "execution_count": 14,
   "id": "e699177e-b709-4fad-ab7c-0f1aea4d2e00",
   "metadata": {},
   "outputs": [
    {
     "data": {
      "text/plain": [
       "'Este trabajo acerca de los cuadernos de clase de los alumnos de escuelas primarias argentinas se inscribe en un nuevo tipo de producción crìtica. Es el trabajo de una investigadora que nunca perdió contacto con la fase inicial de su práctica profesional: la enseñanza en escuelas primarias.  Algunos temas: el micropoder en la escuela, la configuración histórica de los cuadernos de clase, la conformación del discurso escolar y su estandarización en los cuadernos de clase, el rol del cuaderno en la administración de los saberes curriculares.'"
      ]
     },
     "execution_count": 14,
     "metadata": {},
     "output_type": "execute_result"
    }
   ],
   "source": [
    "sinopsis"
   ]
  },
  {
   "cell_type": "code",
   "execution_count": 54,
   "id": "c6817b3d-40af-48bf-b288-ee722788ea49",
   "metadata": {},
   "outputs": [
    {
     "data": {
      "text/plain": [
       "'16 x 23 cm'"
      ]
     },
     "execution_count": 54,
     "metadata": {},
     "output_type": "execute_result"
    }
   ],
   "source": [
    "formato"
   ]
  },
  {
   "cell_type": "code",
   "execution_count": 61,
   "id": "b0d888a9-efd6-43cf-9447-59dd8152de9d",
   "metadata": {},
   "outputs": [
    {
     "data": {
      "text/plain": [
       "<div class=\"field-item even\"><p>Este trabajo acerca de los cuadernos de clase de los alumnos de escuelas primarias argentinas se inscribe en un nuevo tipo de producción crìtica. Es el trabajo de una investigadora que nunca perdió contacto con la fase inicial de su práctica profesional: la enseñanza en escuelas primarias. <br/> Algunos temas: el micropoder en la escuela, la configuración histórica de los cuadernos de clase, la conformación del discurso escolar y su estandarización en los cuadernos de clase, el rol del cuaderno en la administración de los saberes curriculares.</p>\n",
       "</div>"
      ]
     },
     "execution_count": 61,
     "metadata": {},
     "output_type": "execute_result"
    }
   ],
   "source": [
    "evens[13]\n"
   ]
  },
  {
   "cell_type": "code",
   "execution_count": 6,
   "id": "7eaee186-53d9-4538-afdc-ba0191ca4156",
   "metadata": {},
   "outputs": [],
   "source": [
    "url_imagen=soupo.find('div',class_=\"libro-img\").a['href']"
   ]
  },
  {
   "cell_type": "code",
   "execution_count": 7,
   "id": "5db85585-38d5-4f53-b146-211feefdf41f",
   "metadata": {},
   "outputs": [
    {
     "data": {
      "text/plain": [
       "'http://www.aique.com.ar/sites/default/files/cover/retablillo-de-los-bichos.png'"
      ]
     },
     "execution_count": 7,
     "metadata": {},
     "output_type": "execute_result"
    }
   ],
   "source": [
    "url_imagen"
   ]
  },
  {
   "cell_type": "code",
   "execution_count": 76,
   "id": "a7244b41-04ec-4367-a7a3-6f9dea94df6f",
   "metadata": {},
   "outputs": [],
   "source": [
    "w=bool(soupo.find(text=re.compile(r'Ilust')))"
   ]
  },
  {
   "cell_type": "code",
   "execution_count": 77,
   "id": "3167191d-8512-4a2b-8ab1-b4e53d241813",
   "metadata": {},
   "outputs": [
    {
     "data": {
      "text/plain": [
       "True"
      ]
     },
     "execution_count": 77,
     "metadata": {},
     "output_type": "execute_result"
    }
   ],
   "source": [
    "w"
   ]
  },
  {
   "cell_type": "code",
   "execution_count": 68,
   "id": "033757f3-e6da-400c-b70a-237840763e49",
   "metadata": {},
   "outputs": [
    {
     "data": {
      "text/plain": [
       "[<a class=\"glossify-link\" href=\"http://www.aique.com.ar/autores/patricia-suarez\">Patricia Suárez</a>,\n",
       " <a class=\"glossify-link\" href=\"http://www.aique.com.ar/autores/carlos-pinto\">Carlos Pinto</a>,\n",
       " <a class=\"glossify-link\" href=\"http://www.aique.com.ar/autores/patricia-suarez\">Patricia Suárez</a>]"
      ]
     },
     "execution_count": 68,
     "metadata": {},
     "output_type": "execute_result"
    }
   ],
   "source": [
    "soupo.find_all('a',class_=\"glossify-link\")"
   ]
  },
  {
   "cell_type": "code",
   "execution_count": 73,
   "id": "4ce253ce-eaf1-4b59-b03c-f67b47460e21",
   "metadata": {},
   "outputs": [
    {
     "data": {
      "text/plain": [
       "[<a class=\"glossify-link\" href=\"http://www.aique.com.ar/autores/patricia-suarez\">Patricia Suárez</a>,\n",
       " <a class=\"glossify-link\" href=\"http://www.aique.com.ar/autores/carlos-pinto\">Carlos Pinto</a>]"
      ]
     },
     "execution_count": 73,
     "metadata": {},
     "output_type": "execute_result"
    }
   ],
   "source": [
    "soupo.find('div',class_=\"field field-name-field-autor-es field-type-text-long field-label-hidden\").find_all('a')"
   ]
  },
  {
   "cell_type": "code",
   "execution_count": null,
   "id": "3efbaebd-46d0-42d4-90be-b0d591d17012",
   "metadata": {},
   "outputs": [],
   "source": []
  }
 ],
 "metadata": {
  "kernelspec": {
   "display_name": "Python 3 (ipykernel)",
   "language": "python",
   "name": "python3"
  },
  "language_info": {
   "codemirror_mode": {
    "name": "ipython",
    "version": 3
   },
   "file_extension": ".py",
   "mimetype": "text/x-python",
   "name": "python",
   "nbconvert_exporter": "python",
   "pygments_lexer": "ipython3",
   "version": "3.9.0"
  }
 },
 "nbformat": 4,
 "nbformat_minor": 5
}
